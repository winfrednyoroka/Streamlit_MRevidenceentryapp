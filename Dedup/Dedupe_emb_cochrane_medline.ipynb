{
 "cells": [
  {
   "cell_type": "markdown",
   "id": "0e3a69a6-9498-4638-b6e1-3e054ed71d83",
   "metadata": {},
   "source": [
    "# Deduplication of records\n",
    "\n",
    "## Aim\n",
    "To identify and get rid of duplicates using Dedupe in addition to using endnote to remove duplicates.\n",
    "\n",
    "### Method\n",
    "Import the records retrieved from Cochrane, Medline and Embase to the Endnote.\n",
    "Use the find duplicates functionality in endnote to identify duplicates and remove them.\n",
    "Export the remaining records in form of excel output style for further screening for duplicates using dedupe library.\n",
    "\n",
    "Install and load/import the preferred libraries including pandas and dedupe.\n",
    "Read in the dataset using pandas on jupyter notebook.\n",
    "\n",
    "Use the pandas_dedupe  function to parse the dataframe and a subset of column headers including **title, year and accessionnumbers** for scoring of the training dataset. Where I am presented with yes, no, unsure to confirm from the select columns whether two entries are the same.\n",
    "\n",
    "Finish option is to provided to stop the assignment of clusters in the training subset and it does score the other records for similarity.\n",
    "\n",
    "#### Output\n",
    "The output of this is a csv file and json file containing the training dataset for future reference.\n",
    "The csv file contains two additional columns including clusterid which is unique for unique records and similar in cases where the algorithm scored that to be the same. The second column shows the confidence level with which the algorithm has assigned the entries to different clusters.\n"
   ]
  },
  {
   "cell_type": "code",
   "execution_count": null,
   "id": "dac0d24a-baae-4cdc-83d4-3fb6be7dcfed",
   "metadata": {},
   "outputs": [],
   "source": [
    "#import the required libraries\n",
    "import pandas as pd\n",
    "import pandas_dedupe"
   ]
  },
  {
   "cell_type": "code",
   "execution_count": 6,
   "id": "053a8b00-0673-4ffd-ac21-02bbee5ce002",
   "metadata": {
    "tags": []
   },
   "outputs": [
    {
     "data": {
      "text/html": [
       "<div>\n",
       "<style scoped>\n",
       "    .dataframe tbody tr th:only-of-type {\n",
       "        vertical-align: middle;\n",
       "    }\n",
       "\n",
       "    .dataframe tbody tr th {\n",
       "        vertical-align: top;\n",
       "    }\n",
       "\n",
       "    .dataframe thead th {\n",
       "        text-align: right;\n",
       "    }\n",
       "</style>\n",
       "<table border=\"1\" class=\"dataframe\">\n",
       "  <thead>\n",
       "    <tr style=\"text-align: right;\">\n",
       "      <th></th>\n",
       "      <th>Author</th>\n",
       "      <th>Title</th>\n",
       "      <th>Year</th>\n",
       "      <th>DOI</th>\n",
       "      <th>Accessionnumber</th>\n",
       "      <th>abstract</th>\n",
       "    </tr>\n",
       "  </thead>\n",
       "  <tbody>\n",
       "    <tr>\n",
       "      <th>0</th>\n",
       "      <td>B. T. Abebe, M. Weiss, C. Modess, T. Roustom, ...</td>\n",
       "      <td>Effects of the P_Glycoprotein Inhibitor Clarit...</td>\n",
       "      <td>2019</td>\n",
       "      <td>10.1002/jcph.1421</td>\n",
       "      <td>CN-02417390</td>\n",
       "      <td>NaN</td>\n",
       "    </tr>\n",
       "    <tr>\n",
       "      <th>1</th>\n",
       "      <td>R. M. Abou-Mrad, A. K. Abu-Alfa and F. N. Ziyadeh</td>\n",
       "      <td>Effects of weight reduction regimens and baria...</td>\n",
       "      <td>2013</td>\n",
       "      <td>https://dx.doi.org/10.1152/ajprenal.00173.2013</td>\n",
       "      <td>NaN</td>\n",
       "      <td>Increasing evidence nowadays is showing that o...</td>\n",
       "    </tr>\n",
       "    <tr>\n",
       "      <th>2</th>\n",
       "      <td>B. K. Abu Dayyeh, E. J. Vargas, M. Ujiki, C. G...</td>\n",
       "      <td>ENDOSCOPIC SLEEVE GASTROPLASTY IMPACT ON OBESI...</td>\n",
       "      <td>2022</td>\n",
       "      <td>https://dx.doi.org/10.1016/j.gie.2022.04.063</td>\n",
       "      <td>NaN</td>\n",
       "      <td>DDW 2022 Author Disclosures: Barham Abu Dayyeh...</td>\n",
       "    </tr>\n",
       "    <tr>\n",
       "      <th>3</th>\n",
       "      <td>Actrn</td>\n",
       "      <td>The effect of weight loss on Type 2 Diabetes: ...</td>\n",
       "      <td>2005</td>\n",
       "      <td>NaN</td>\n",
       "      <td>CN-01805555</td>\n",
       "      <td>INTERVENTION: Sixty patients who have been dia...</td>\n",
       "    </tr>\n",
       "    <tr>\n",
       "      <th>4</th>\n",
       "      <td>Actrn</td>\n",
       "      <td>A randomized controlled trial of the effect of...</td>\n",
       "      <td>2005</td>\n",
       "      <td>NaN</td>\n",
       "      <td>CN-01815608</td>\n",
       "      <td>INTERVENTION: Sixty patients with severe obstr...</td>\n",
       "    </tr>\n",
       "    <tr>\n",
       "      <th>...</th>\n",
       "      <td>...</td>\n",
       "      <td>...</td>\n",
       "      <td>...</td>\n",
       "      <td>...</td>\n",
       "      <td>...</td>\n",
       "      <td>...</td>\n",
       "    </tr>\n",
       "    <tr>\n",
       "      <th>819</th>\n",
       "      <td>X. Zhang, K. L. Jones, M. Horowitz, C. K. Rayn...</td>\n",
       "      <td>Effects of Proximal and Distal Enteral Glucose...</td>\n",
       "      <td>2020</td>\n",
       "      <td>10.1210/clinem/dgaa341</td>\n",
       "      <td>CN-02133060</td>\n",
       "      <td>CONTEXT: Exposure of the small intestine to nu...</td>\n",
       "    </tr>\n",
       "    <tr>\n",
       "      <th>820</th>\n",
       "      <td>X. Zhang, H. Xiao and Y. Chen</td>\n",
       "      <td>Evaluation of a WeChat_based life review progr...</td>\n",
       "      <td>2019</td>\n",
       "      <td>10.1111/jan.14018</td>\n",
       "      <td>CN-02417307</td>\n",
       "      <td>NaN</td>\n",
       "    </tr>\n",
       "    <tr>\n",
       "      <th>821</th>\n",
       "      <td>G. Zhao, P. Peng, Y. Zhou, J. Li, H. Jiang and...</td>\n",
       "      <td>The accuracy and effectiveness of goal directe...</td>\n",
       "      <td>2018</td>\n",
       "      <td>NaN</td>\n",
       "      <td>CN-01645403</td>\n",
       "      <td>Gastrointestinal cancer, a common disease with...</td>\n",
       "    </tr>\n",
       "    <tr>\n",
       "      <th>822</th>\n",
       "      <td>H. Zhao and L. Jiao</td>\n",
       "      <td>Comparative analysis for the effect of Roux-en...</td>\n",
       "      <td>2019</td>\n",
       "      <td>https://dx.doi.org/10.1016/j.ijsu.2019.11.013</td>\n",
       "      <td>NaN</td>\n",
       "      <td>BACKGROUND: Laparoscopic Roux-en-Y gastric byp...</td>\n",
       "    </tr>\n",
       "    <tr>\n",
       "      <th>823</th>\n",
       "      <td>K. Zhou, K. Wolski, S. K. Malin, A. Aminian, P...</td>\n",
       "      <td>Impact of weight loss trajectory following ran...</td>\n",
       "      <td>2019</td>\n",
       "      <td>https://dx.doi.org/10.4158/EP-2018-0522</td>\n",
       "      <td>NaN</td>\n",
       "      <td>Objective: It is unclear whether acute weight ...</td>\n",
       "    </tr>\n",
       "  </tbody>\n",
       "</table>\n",
       "<p>824 rows × 6 columns</p>\n",
       "</div>"
      ],
      "text/plain": [
       "                                                Author  \\\n",
       "0    B. T. Abebe, M. Weiss, C. Modess, T. Roustom, ...   \n",
       "1    R. M. Abou-Mrad, A. K. Abu-Alfa and F. N. Ziyadeh   \n",
       "2    B. K. Abu Dayyeh, E. J. Vargas, M. Ujiki, C. G...   \n",
       "3                                                Actrn   \n",
       "4                                                Actrn   \n",
       "..                                                 ...   \n",
       "819  X. Zhang, K. L. Jones, M. Horowitz, C. K. Rayn...   \n",
       "820                      X. Zhang, H. Xiao and Y. Chen   \n",
       "821  G. Zhao, P. Peng, Y. Zhou, J. Li, H. Jiang and...   \n",
       "822                                H. Zhao and L. Jiao   \n",
       "823  K. Zhou, K. Wolski, S. K. Malin, A. Aminian, P...   \n",
       "\n",
       "                                                 Title  Year  \\\n",
       "0    Effects of the P_Glycoprotein Inhibitor Clarit...  2019   \n",
       "1    Effects of weight reduction regimens and baria...  2013   \n",
       "2    ENDOSCOPIC SLEEVE GASTROPLASTY IMPACT ON OBESI...  2022   \n",
       "3    The effect of weight loss on Type 2 Diabetes: ...  2005   \n",
       "4    A randomized controlled trial of the effect of...  2005   \n",
       "..                                                 ...   ...   \n",
       "819  Effects of Proximal and Distal Enteral Glucose...  2020   \n",
       "820  Evaluation of a WeChat_based life review progr...  2019   \n",
       "821  The accuracy and effectiveness of goal directe...  2018   \n",
       "822  Comparative analysis for the effect of Roux-en...  2019   \n",
       "823  Impact of weight loss trajectory following ran...  2019   \n",
       "\n",
       "                                                DOI Accessionnumber  \\\n",
       "0                                 10.1002/jcph.1421     CN-02417390   \n",
       "1    https://dx.doi.org/10.1152/ajprenal.00173.2013             NaN   \n",
       "2      https://dx.doi.org/10.1016/j.gie.2022.04.063             NaN   \n",
       "3                                               NaN     CN-01805555   \n",
       "4                                               NaN     CN-01815608   \n",
       "..                                              ...             ...   \n",
       "819                          10.1210/clinem/dgaa341     CN-02133060   \n",
       "820                               10.1111/jan.14018     CN-02417307   \n",
       "821                                             NaN     CN-01645403   \n",
       "822   https://dx.doi.org/10.1016/j.ijsu.2019.11.013             NaN   \n",
       "823         https://dx.doi.org/10.4158/EP-2018-0522             NaN   \n",
       "\n",
       "                                              abstract  \n",
       "0                                                  NaN  \n",
       "1    Increasing evidence nowadays is showing that o...  \n",
       "2    DDW 2022 Author Disclosures: Barham Abu Dayyeh...  \n",
       "3    INTERVENTION: Sixty patients who have been dia...  \n",
       "4    INTERVENTION: Sixty patients with severe obstr...  \n",
       "..                                                 ...  \n",
       "819  CONTEXT: Exposure of the small intestine to nu...  \n",
       "820                                                NaN  \n",
       "821  Gastrointestinal cancer, a common disease with...  \n",
       "822  BACKGROUND: Laparoscopic Roux-en-Y gastric byp...  \n",
       "823  Objective: It is unclear whether acute weight ...  \n",
       "\n",
       "[824 rows x 6 columns]"
      ]
     },
     "execution_count": 6,
     "metadata": {},
     "output_type": "execute_result"
    }
   ],
   "source": [
    "#Read in the dataset\n",
    "#Processing my own data\n",
    "\n",
    "emb_coch_med = pd.read_csv(\"Combined_embase_medline_cochrane.csv\")\n",
    "emb_coch_med"
   ]
  },
  {
   "cell_type": "code",
   "execution_count": 7,
   "id": "5c63957d-47c3-4b04-89c6-67b3175816c6",
   "metadata": {
    "tags": []
   },
   "outputs": [
    {
     "name": "stdout",
     "output_type": "stream",
     "text": [
      "Importing data ...\n"
     ]
    },
    {
     "name": "stderr",
     "output_type": "stream",
     "text": [
      "/var/folders/pn/sqv4n6ms0hnchhr2ll3kh5x00000gq/T/ipykernel_87774/4209036317.py:2: FutureWarning: The default value of regex will change from True to False in a future version.\n",
      "  emb_coch_med_df = pandas_dedupe.dedupe_dataframe(emb_coch_med, [\"Year\",\"Title\",\"Accessionnumber\"])\n"
     ]
    },
    {
     "name": "stdout",
     "output_type": "stream",
     "text": [
      "Starting active labeling...\n"
     ]
    },
    {
     "name": "stderr",
     "output_type": "stream",
     "text": [
      "Year : 2017\n",
      "Title : assessing the value of ehealth for bariatric surgery\n",
      "Accessionnumber : cn-01578578\n",
      "\n",
      "Year : 2017\n",
      "Title : assessing the value of ehealth for bariatric surgery: the bepatient-trial technology and bariatric surgery\n",
      "Accessionnumber : cn-01462492\n",
      "\n",
      "0/10 positive, 0/10 negative\n",
      "Do these records refer to the same thing?\n",
      "(y)es / (n)o / (u)nsure / (f)inished\n"
     ]
    },
    {
     "name": "stdin",
     "output_type": "stream",
     "text": [
      " n\n"
     ]
    },
    {
     "name": "stderr",
     "output_type": "stream",
     "text": [
      "Year : 2018\n",
      "Title : letter by moris et al regarding article, effects of bariatric surgery in obese patients with hypertension: the gateway randomized trial (gastric bypass to treat obese patients with steady hypertension)\n",
      "Accessionnumber : cn-01650270\n",
      "\n",
      "Year : 2018\n",
      "Title : letter by yang et al regarding article, effects of bariatric surgery in obese patients with hypertension: the gateway randomized trial (gastric bypass to treat obese patients with steady hypertension)\n",
      "Accessionnumber : cn-01650262\n",
      "\n",
      "0/10 positive, 1/10 negative\n",
      "Do these records refer to the same thing?\n",
      "(y)es / (n)o / (u)nsure / (f)inished / (p)revious\n"
     ]
    },
    {
     "name": "stdin",
     "output_type": "stream",
     "text": [
      " n\n"
     ]
    },
    {
     "name": "stderr",
     "output_type": "stream",
     "text": [
      "Year : 2017\n",
      "Title : laparoscopic greater curvature plication versus laparoscopic sleeve gastrectomy: long-term results of prospective randomized trial sleeve gastrectomy\n",
      "Accessionnumber : None\n",
      "\n",
      "Year : 2017\n",
      "Title : laparoscopic greater curvature plication versus laparoscopic sleeve gastrectomy: long-term results of prospective randomized trial\n",
      "Accessionnumber : None\n",
      "\n",
      "0/10 positive, 2/10 negative\n",
      "Do these records refer to the same thing?\n",
      "(y)es / (n)o / (u)nsure / (f)inished / (p)revious\n"
     ]
    },
    {
     "name": "stdin",
     "output_type": "stream",
     "text": [
      " y\n"
     ]
    },
    {
     "name": "stderr",
     "output_type": "stream",
     "text": [
      "Year : 2010\n",
      "Title : effects of a balanced energy and high protein formula diet (vegestart complet r) vs. low-calorie regular diet in morbid obese patients prior to bariatric surgery (laparoscopic single anastomosis gastric bypass): a prospective, double-blind randomized study\n",
      "Accessionnumber : None\n",
      "\n",
      "Year : 2010\n",
      "Title : effects of a balanced energy and high protein formula diet (vegestart complet) vs. low-calorie regular diet in morbid obese patients prior to bariatric surgery (laparoscopic single anastomosis gastric bypass): a prospective, double-blind randomized study\n",
      "Accessionnumber : None\n",
      "\n",
      "1/10 positive, 2/10 negative\n",
      "Do these records refer to the same thing?\n",
      "(y)es / (n)o / (u)nsure / (f)inished / (p)revious\n"
     ]
    },
    {
     "name": "stdin",
     "output_type": "stream",
     "text": [
      " y\n"
     ]
    },
    {
     "name": "stderr",
     "output_type": "stream",
     "text": [
      "Year : 2018\n",
      "Title : letter by moris et al regarding article, effects of bariatric surgery in obese patients with hypertension: the gateway randomized trial (gastric bypass to treat obese patients with steady hypertension)\n",
      "Accessionnumber : cn-01650270\n",
      "\n",
      "Year : 2018\n",
      "Title : response by schiavon et al to letters regarding article, effects of bariatric surgery in obese patients with hypertension: the gateway randomized trial (gastric bypass to treat obese patients with steady hypertension)\n",
      "Accessionnumber : None\n",
      "\n",
      "2/10 positive, 2/10 negative\n",
      "Do these records refer to the same thing?\n",
      "(y)es / (n)o / (u)nsure / (f)inished / (p)revious\n"
     ]
    },
    {
     "name": "stdin",
     "output_type": "stream",
     "text": [
      " n\n"
     ]
    },
    {
     "name": "stderr",
     "output_type": "stream",
     "text": [
      "Year : 2018\n",
      "Title : response by schiavon et al to letters regarding article, effects of bariatric surgery in obese patients with hypertension: the gateway randomized trial (gastric bypass to treat obese patients with steady hypertension)\n",
      "Accessionnumber : None\n",
      "\n",
      "Year : 2018\n",
      "Title : letter by yang et al regarding article, effects of bariatric surgery in obese patients with hypertension: the gateway randomized trial (gastric bypass to treat obese patients with steady hypertension)\n",
      "Accessionnumber : cn-01650262\n",
      "\n",
      "2/10 positive, 3/10 negative\n",
      "Do these records refer to the same thing?\n",
      "(y)es / (n)o / (u)nsure / (f)inished / (p)revious\n"
     ]
    },
    {
     "name": "stdin",
     "output_type": "stream",
     "text": [
      " n\n"
     ]
    },
    {
     "name": "stderr",
     "output_type": "stream",
     "text": [
      "Year : 2018\n",
      "Title : an update of idiopathic intracranial hypertension\n",
      "Accessionnumber : None\n",
      "\n",
      "Year : 2010\n",
      "Title : an update on idiopathic intracranial hypertension\n",
      "Accessionnumber : None\n",
      "\n",
      "2/10 positive, 4/10 negative\n",
      "Do these records refer to the same thing?\n",
      "(y)es / (n)o / (u)nsure / (f)inished / (p)revious\n"
     ]
    },
    {
     "name": "stdin",
     "output_type": "stream",
     "text": [
      " y\n"
     ]
    },
    {
     "name": "stderr",
     "output_type": "stream",
     "text": [
      "Year : 2012\n",
      "Title : transoral gastric volume reduction as intervention for weight management: 12-month follow-up of trim trial\n",
      "Accessionnumber : None\n",
      "\n",
      "Year : 2012\n",
      "Title : comment on: transoral gastric volume reduction as an intervention for weight management: 12 month follow-up of the trim trial\n",
      "Accessionnumber : cn-02010399\n",
      "\n",
      "3/10 positive, 4/10 negative\n",
      "Do these records refer to the same thing?\n",
      "(y)es / (n)o / (u)nsure / (f)inished / (p)revious\n"
     ]
    },
    {
     "name": "stdin",
     "output_type": "stream",
     "text": [
      " p\n"
     ]
    },
    {
     "name": "stderr",
     "output_type": "stream",
     "text": [
      "Year : 2018\n",
      "Title : an update of idiopathic intracranial hypertension\n",
      "Accessionnumber : None\n",
      "\n",
      "Year : 2010\n",
      "Title : an update on idiopathic intracranial hypertension\n",
      "Accessionnumber : None\n",
      "\n",
      "2/10 positive, 4/10 negative\n",
      "Do these records refer to the same thing?\n",
      "(y)es / (n)o / (u)nsure / (f)inished\n"
     ]
    },
    {
     "name": "stdin",
     "output_type": "stream",
     "text": [
      " n\n"
     ]
    },
    {
     "name": "stderr",
     "output_type": "stream",
     "text": [
      "Year : 2012\n",
      "Title : transoral gastric volume reduction as intervention for weight management: 12-month follow-up of trim trial\n",
      "Accessionnumber : None\n",
      "\n",
      "Year : 2012\n",
      "Title : comment on: transoral gastric volume reduction as an intervention for weight management: 12 month follow-up of the trim trial\n",
      "Accessionnumber : cn-02010399\n",
      "\n",
      "2/10 positive, 5/10 negative\n",
      "Do these records refer to the same thing?\n",
      "(y)es / (n)o / (u)nsure / (f)inished / (p)revious\n"
     ]
    },
    {
     "name": "stdin",
     "output_type": "stream",
     "text": [
      " u\n"
     ]
    },
    {
     "name": "stderr",
     "output_type": "stream",
     "text": [
      "Year : 2017\n",
      "Title : effects of bariatric surgery in obese patients with hypertension: the gateway randomized trial\n",
      "Accessionnumber : cn-01612129\n",
      "\n",
      "Year : 2018\n",
      "Title : effects of bariatric surgery in obese patients with hypertension: the gateway randomized trial (gastric bypass to treat obese patients with steady hypertension)\n",
      "Accessionnumber : None\n",
      "\n",
      "2/10 positive, 5/10 negative\n",
      "Do these records refer to the same thing?\n",
      "(y)es / (n)o / (u)nsure / (f)inished / (p)revious\n"
     ]
    },
    {
     "name": "stdin",
     "output_type": "stream",
     "text": [
      " u\n"
     ]
    },
    {
     "name": "stderr",
     "output_type": "stream",
     "text": [
      "Year : 2018\n",
      "Title : banded versus non-banded roux-en-y gastric bypass for morbid obesity: a meta-analysis\n",
      "Accessionnumber : None\n",
      "\n",
      "Year : 2018\n",
      "Title : banded vs. non-banded roux-en-y gastric bypass for morbid obesity: a systematic review and meta-analysis\n",
      "Accessionnumber : None\n",
      "\n",
      "2/10 positive, 5/10 negative\n",
      "Do these records refer to the same thing?\n",
      "(y)es / (n)o / (u)nsure / (f)inished / (p)revious\n"
     ]
    },
    {
     "name": "stdin",
     "output_type": "stream",
     "text": [
      " y\n"
     ]
    },
    {
     "name": "stderr",
     "output_type": "stream",
     "text": [
      "Year : 2015\n",
      "Title : minimizing hemorrhagic complications in laparoscopic sleeve gastrectomy--a randomized controlled trial\n",
      "Accessionnumber : None\n",
      "\n",
      "Year : 2014\n",
      "Title : minimizing hemorrhagic complications in laparoscopic sleeve gastrectomy a randomized controlled trial\n",
      "Accessionnumber : cn-01009336\n",
      "\n",
      "3/10 positive, 5/10 negative\n",
      "Do these records refer to the same thing?\n",
      "(y)es / (n)o / (u)nsure / (f)inished / (p)revious\n"
     ]
    },
    {
     "name": "stdin",
     "output_type": "stream",
     "text": [
      " u\n"
     ]
    },
    {
     "name": "stderr",
     "output_type": "stream",
     "text": [
      "Year : 2018\n",
      "Title : effects of bariatric surgery in obese patients with hypertension: the gateway randomized trial (gastric bypass to treat obese patients with steady hypertension)\n",
      "Accessionnumber : None\n",
      "\n",
      "Year : 2018\n",
      "Title : letter by yang et al regarding article, effects of bariatric surgery in obese patients with hypertension: the gateway randomized trial (gastric bypass to treat obese patients with steady hypertension)\n",
      "Accessionnumber : cn-01650262\n",
      "\n",
      "3/10 positive, 5/10 negative\n",
      "Do these records refer to the same thing?\n",
      "(y)es / (n)o / (u)nsure / (f)inished / (p)revious\n"
     ]
    },
    {
     "name": "stdin",
     "output_type": "stream",
     "text": [
      " u\n"
     ]
    },
    {
     "name": "stderr",
     "output_type": "stream",
     "text": [
      "Year : 2018\n",
      "Title : one-anastomosis gastric bypass versus sleeve gastrectomy for morbid obesity: a meta-analysis\n",
      "Accessionnumber : None\n",
      "\n",
      "Year : 2018\n",
      "Title : one anastomosis gastric bypass versus roux-en-y gastric bypass for morbid obesity: a meta-analysis\n",
      "Accessionnumber : None\n",
      "\n",
      "3/10 positive, 5/10 negative\n",
      "Do these records refer to the same thing?\n",
      "(y)es / (n)o / (u)nsure / (f)inished / (p)revious\n"
     ]
    },
    {
     "name": "stdin",
     "output_type": "stream",
     "text": [
      " u\n"
     ]
    },
    {
     "name": "stderr",
     "output_type": "stream",
     "text": [
      "Year : 2017\n",
      "Title : erratum to: relationship between vitamin d deficiency and the components of metabolic syndrome in patients with morbid obesity, before and 1 year after laparoscopic roux-en-y gastric bypass or sleeve gastrectomy (obesity surgery, (2017), 27, 5, (1222-1228), 10.1007/s11695-016-2445-0)\n",
      "Accessionnumber : None\n",
      "\n",
      "Year : 2017\n",
      "Title : haemorrhoid embolisation\n",
      "Accessionnumber : cn-01418821\n",
      "\n",
      "3/10 positive, 5/10 negative\n",
      "Do these records refer to the same thing?\n",
      "(y)es / (n)o / (u)nsure / (f)inished / (p)revious\n"
     ]
    },
    {
     "name": "stdin",
     "output_type": "stream",
     "text": [
      " n\n"
     ]
    },
    {
     "name": "stderr",
     "output_type": "stream",
     "text": [
      "Year : 2015\n",
      "Title : the link between obesity and vitamin d in bariatric patients with omega-loop gastric bypass surgery - a vitamin d supplementation trial to compare the efficacy of postoperative cholecalciferol loading (load): study protocol for a randomized controlled trial\n",
      "Accessionnumber : None\n",
      "\n",
      "Year : 2015\n",
      "Title : sleep health and science\n",
      "Accessionnumber : None\n",
      "\n",
      "3/10 positive, 6/10 negative\n",
      "Do these records refer to the same thing?\n",
      "(y)es / (n)o / (u)nsure / (f)inished / (p)revious\n"
     ]
    },
    {
     "name": "stdin",
     "output_type": "stream",
     "text": [
      " n\n"
     ]
    },
    {
     "name": "stderr",
     "output_type": "stream",
     "text": [
      "Year : 2022\n",
      "Title : effectiveness of bariatric surgery vs community weight management intervention for the treatment of idiopathic intracranial hypertension: a randomised control trial\n",
      "Accessionnumber : None\n",
      "\n",
      "Year : 2021\n",
      "Title : effectiveness of bariatric surgery vs community weight management intervention for the treatment of idiopathic intracranial hypertension: a randomized clinical trial\n",
      "Accessionnumber : None\n",
      "\n",
      "3/10 positive, 7/10 negative\n",
      "Do these records refer to the same thing?\n",
      "(y)es / (n)o / (u)nsure / (f)inished / (p)revious\n"
     ]
    },
    {
     "name": "stdin",
     "output_type": "stream",
     "text": [
      " u\n"
     ]
    },
    {
     "name": "stderr",
     "output_type": "stream",
     "text": [
      "Year : 2014\n",
      "Title : the link between obesity and vitamin d in bariatric patients with omega-loop bypass surgery\n",
      "Accessionnumber : cn-01817801\n",
      "\n",
      "Year : 2015\n",
      "Title : the link between obesity and vitamin d in bariatric patients with omega-loop gastric bypass surgery - a vitamin d supplementation trial to compare the efficacy of postoperative cholecalciferol loading (load): study protocol for a randomized controlled trial\n",
      "Accessionnumber : None\n",
      "\n",
      "3/10 positive, 7/10 negative\n",
      "Do these records refer to the same thing?\n",
      "(y)es / (n)o / (u)nsure / (f)inished / (p)revious\n"
     ]
    },
    {
     "name": "stdin",
     "output_type": "stream",
     "text": [
      " n\n"
     ]
    },
    {
     "name": "stderr",
     "output_type": "stream",
     "text": [
      "Year : 2018\n",
      "Title : effects of bariatric surgery in obese patients with hypertension: the gateway randomized trial (gastric bypass to treat obese patients with steady hypertension)\n",
      "Accessionnumber : None\n",
      "\n",
      "Year : 2018\n",
      "Title : response by schiavon et al to letters regarding article, effects of bariatric surgery in obese patients with hypertension: the gateway randomized trial (gastric bypass to treat obese patients with steady hypertension)\n",
      "Accessionnumber : None\n",
      "\n",
      "3/10 positive, 8/10 negative\n",
      "Do these records refer to the same thing?\n",
      "(y)es / (n)o / (u)nsure / (f)inished / (p)revious\n"
     ]
    },
    {
     "name": "stdin",
     "output_type": "stream",
     "text": [
      " n\n"
     ]
    },
    {
     "name": "stderr",
     "output_type": "stream",
     "text": [
      "Year : 2021\n",
      "Title : effectiveness of bariatric surgery vs community weight management intervention for the treatment of idiopathic intracranial hypertension: a randomized clinical trial\n",
      "Accessionnumber : None\n",
      "\n",
      "Year : 2021\n",
      "Title : bariatric surgery vs. community weight management intervention for idiopathic intracranial hypertension: a randomised controlled trial\n",
      "Accessionnumber : None\n",
      "\n",
      "3/10 positive, 9/10 negative\n",
      "Do these records refer to the same thing?\n",
      "(y)es / (n)o / (u)nsure / (f)inished / (p)revious\n"
     ]
    },
    {
     "name": "stdin",
     "output_type": "stream",
     "text": [
      " y\n"
     ]
    },
    {
     "name": "stderr",
     "output_type": "stream",
     "text": [
      "Year : 2015\n",
      "Title : two-year outcomes of randomized controlled trial comparing laparoscopic greater curvature plication versus laparoscopic sleeve gastrectomy\n",
      "Accessionnumber : None\n",
      "\n",
      "Year : 2016\n",
      "Title : randomized controlled trial comparing laparoscopic greater curvature plication versus laparoscopic sleeve gastrectomy\n",
      "Accessionnumber : None\n",
      "\n",
      "4/10 positive, 9/10 negative\n",
      "Do these records refer to the same thing?\n",
      "(y)es / (n)o / (u)nsure / (f)inished / (p)revious\n"
     ]
    },
    {
     "name": "stdin",
     "output_type": "stream",
     "text": [
      " u\n"
     ]
    },
    {
     "name": "stderr",
     "output_type": "stream",
     "text": [
      "Year : 2013\n",
      "Title : bariatric surgery versus non-surgical treatment for obesity: a systematic review and meta-analysis of randomised controlled trials\n",
      "Accessionnumber : None\n",
      "\n",
      "Year : 2016\n",
      "Title : bariatric surgery versus non-surgical treatment of morbid obesity: a systematic review\n",
      "Accessionnumber : None\n",
      "\n",
      "4/10 positive, 9/10 negative\n",
      "Do these records refer to the same thing?\n",
      "(y)es / (n)o / (u)nsure / (f)inished / (p)revious\n"
     ]
    },
    {
     "name": "stdin",
     "output_type": "stream",
     "text": [
      " n\n"
     ]
    },
    {
     "name": "stderr",
     "output_type": "stream",
     "text": [
      "Year : 2017\n",
      "Title : lsg vs oagb-1 year follow-up data-a randomized control trial\n",
      "Accessionnumber : None\n",
      "\n",
      "Year : 2018\n",
      "Title : lsg vs mgb-oagb-3 year follow-up data: a randomised control trial\n",
      "Accessionnumber : None\n",
      "\n",
      "4/10 positive, 10/10 negative\n",
      "Do these records refer to the same thing?\n",
      "(y)es / (n)o / (u)nsure / (f)inished / (p)revious\n"
     ]
    },
    {
     "name": "stdin",
     "output_type": "stream",
     "text": [
      " n\n"
     ]
    },
    {
     "name": "stderr",
     "output_type": "stream",
     "text": [
      "Year : 2017\n",
      "Title : lsg vs oagb-1 year follow-up data-a randomized control trial gastric bypass procedures including roux-en-y gastric bypass (rygb) and one anastomosis gastric bypass (oagb)/mgb\n",
      "Accessionnumber : None\n",
      "\n",
      "Year : 2018\n",
      "Title : lsg vs mgb-oagb-3 year follow-up data: a randomised control trial\n",
      "Accessionnumber : None\n",
      "\n",
      "4/10 positive, 11/10 negative\n",
      "Do these records refer to the same thing?\n",
      "(y)es / (n)o / (u)nsure / (f)inished / (p)revious\n"
     ]
    },
    {
     "name": "stdin",
     "output_type": "stream",
     "text": [
      " n\n"
     ]
    },
    {
     "name": "stderr",
     "output_type": "stream",
     "text": [
      "Year : 2015\n",
      "Title : adjustable gastric band surgery or medical management in patients with type 2 diabetes: a randomized clinical trial\n",
      "Accessionnumber : None\n",
      "\n",
      "Year : 2015\n",
      "Title : management in patients with type 2 diabetes: a randomized clinical trial\n",
      "Accessionnumber : None\n",
      "\n",
      "4/10 positive, 12/10 negative\n",
      "Do these records refer to the same thing?\n",
      "(y)es / (n)o / (u)nsure / (f)inished / (p)revious\n"
     ]
    },
    {
     "name": "stdin",
     "output_type": "stream",
     "text": [
      " n\n"
     ]
    },
    {
     "name": "stderr",
     "output_type": "stream",
     "text": [
      "Year : 2020\n",
      "Title : band ligation versus sclerotherapy for primary prophylaxis of oesophageal variceal bleeding in children with chronic liver disease or portal vein thrombosis\n",
      "Accessionnumber : cd011803\n",
      "\n",
      "Year : 2020\n",
      "Title : sclerotherapy versus sham or no intervention for primary prophylaxis of oesophageal variceal bleeding in children with chronic liver disease or portal vein thrombosis\n",
      "Accessionnumber : cd011573\n",
      "\n",
      "4/10 positive, 13/10 negative\n",
      "Do these records refer to the same thing?\n",
      "(y)es / (n)o / (u)nsure / (f)inished / (p)revious\n"
     ]
    },
    {
     "name": "stdin",
     "output_type": "stream",
     "text": [
      " u\n"
     ]
    },
    {
     "name": "stderr",
     "output_type": "stream",
     "text": [
      "Year : 2022\n",
      "Title : effectiveness of bariatric surgery vs community weight management intervention for the treatment of idiopathic intracranial hypertension: a randomised control trial\n",
      "Accessionnumber : None\n",
      "\n",
      "Year : 2021\n",
      "Title : bariatric surgery vs. community weight management intervention for idiopathic intracranial hypertension: a randomised controlled trial\n",
      "Accessionnumber : None\n",
      "\n",
      "4/10 positive, 13/10 negative\n",
      "Do these records refer to the same thing?\n",
      "(y)es / (n)o / (u)nsure / (f)inished / (p)revious\n"
     ]
    },
    {
     "name": "stdin",
     "output_type": "stream",
     "text": [
      " n\n"
     ]
    },
    {
     "name": "stderr",
     "output_type": "stream",
     "text": [
      "Year : 2021\n",
      "Title : beta_blockers versus placebo or no intervention for primary prophylaxis of oesophageal variceal bleeding in children with chronic liver disease or portal vein thrombosis\n",
      "Accessionnumber : cd011973\n",
      "\n",
      "Year : 2021\n",
      "Title : band ligation versus sham or no intervention for primary prophylaxis of oesophageal variceal bleeding in children and adolescents with chronic liver disease or portal vein thrombosis\n",
      "Accessionnumber : cd011561\n",
      "\n",
      "4/10 positive, 14/10 negative\n",
      "Do these records refer to the same thing?\n",
      "(y)es / (n)o / (u)nsure / (f)inished / (p)revious\n"
     ]
    },
    {
     "name": "stdin",
     "output_type": "stream",
     "text": [
      " u\n"
     ]
    },
    {
     "name": "stderr",
     "output_type": "stream",
     "text": [
      "Year : 2020\n",
      "Title : sclerotherapy versus beta_blockers for primary prophylaxis of oesophageal variceal bleeding in children and adolescents with chronic liver disease or portal vein thrombosis\n",
      "Accessionnumber : cd011659\n",
      "\n",
      "Year : 2020\n",
      "Title : sclerotherapy versus sham or no intervention for primary prophylaxis of oesophageal variceal bleeding in children with chronic liver disease or portal vein thrombosis\n",
      "Accessionnumber : cd011573\n",
      "\n",
      "4/10 positive, 14/10 negative\n",
      "Do these records refer to the same thing?\n",
      "(y)es / (n)o / (u)nsure / (f)inished / (p)revious\n"
     ]
    },
    {
     "name": "stdin",
     "output_type": "stream",
     "text": [
      " u\n"
     ]
    },
    {
     "name": "stderr",
     "output_type": "stream",
     "text": [
      "Year : 2021\n",
      "Title : protocol for an open-label, single-center, randomised controlled trial comparing the effects of injection of glucagon-like peptide 1 receptor agonist semaglutide before bariatric surgery on diabetes remission in obese type 2 diabetes patients\n",
      "Accessionnumber : cn-02467700\n",
      "\n",
      "Year : 2021\n",
      "Title : an open-label, single-center, randomised controlled trial comparing the effects of the glucagon-like peptide 1 receptor agonist semaglutide versus bariatric surgery on remission of diabetes in obese type 2 diabetes patients\n",
      "Accessionnumber : cn-02451966\n",
      "\n",
      "4/10 positive, 14/10 negative\n",
      "Do these records refer to the same thing?\n",
      "(y)es / (n)o / (u)nsure / (f)inished / (p)revious\n"
     ]
    },
    {
     "name": "stdin",
     "output_type": "stream",
     "text": [
      " u\n"
     ]
    },
    {
     "name": "stderr",
     "output_type": "stream",
     "text": [
      "Year : 2020\n",
      "Title : band ligation versus sclerotherapy for primary prophylaxis of oesophageal variceal bleeding in children with chronic liver disease or portal vein thrombosis\n",
      "Accessionnumber : cd011803\n",
      "\n",
      "Year : 2020\n",
      "Title : sclerotherapy versus beta_blockers for primary prophylaxis of oesophageal variceal bleeding in children and adolescents with chronic liver disease or portal vein thrombosis\n",
      "Accessionnumber : cd011659\n",
      "\n",
      "4/10 positive, 14/10 negative\n",
      "Do these records refer to the same thing?\n",
      "(y)es / (n)o / (u)nsure / (f)inished / (p)revious\n"
     ]
    },
    {
     "name": "stdin",
     "output_type": "stream",
     "text": [
      " n\n"
     ]
    },
    {
     "name": "stderr",
     "output_type": "stream",
     "text": [
      "Year : 2021\n",
      "Title : beta_blockers versus placebo or no intervention for primary prophylaxis of oesophageal variceal bleeding in children with chronic liver disease or portal vein thrombosis\n",
      "Accessionnumber : cd011973\n",
      "\n",
      "Year : 2020\n",
      "Title : sclerotherapy versus sham or no intervention for primary prophylaxis of oesophageal variceal bleeding in children with chronic liver disease or portal vein thrombosis\n",
      "Accessionnumber : cd011573\n",
      "\n",
      "4/10 positive, 15/10 negative\n",
      "Do these records refer to the same thing?\n",
      "(y)es / (n)o / (u)nsure / (f)inished / (p)revious\n"
     ]
    },
    {
     "name": "stdin",
     "output_type": "stream",
     "text": [
      " n\n"
     ]
    },
    {
     "name": "stderr",
     "output_type": "stream",
     "text": [
      "Year : 2021\n",
      "Title : band ligation versus sham or no intervention for primary prophylaxis of oesophageal variceal bleeding in children and adolescents with chronic liver disease or portal vein thrombosis\n",
      "Accessionnumber : cd011561\n",
      "\n",
      "Year : 2020\n",
      "Title : sclerotherapy versus sham or no intervention for primary prophylaxis of oesophageal variceal bleeding in children with chronic liver disease or portal vein thrombosis\n",
      "Accessionnumber : cd011573\n",
      "\n",
      "4/10 positive, 16/10 negative\n",
      "Do these records refer to the same thing?\n",
      "(y)es / (n)o / (u)nsure / (f)inished / (p)revious\n"
     ]
    },
    {
     "name": "stdin",
     "output_type": "stream",
     "text": [
      " n\n"
     ]
    },
    {
     "name": "stderr",
     "output_type": "stream",
     "text": [
      "Year : 2015\n",
      "Title : adjustable gastric band surgery or medical management in patients with type 2 diabetes: a randomized clinical trial\n",
      "Accessionnumber : None\n",
      "\n",
      "Year : 2019\n",
      "Title : adjustable gastric band surgery or medical management in patients with type 2 diabetes and obesity: three-year results of a randomized trial\n",
      "Accessionnumber : None\n",
      "\n",
      "4/10 positive, 17/10 negative\n",
      "Do these records refer to the same thing?\n",
      "(y)es / (n)o / (u)nsure / (f)inished / (p)revious\n"
     ]
    },
    {
     "name": "stdin",
     "output_type": "stream",
     "text": [
      " n\n"
     ]
    },
    {
     "name": "stderr",
     "output_type": "stream",
     "text": [
      "Year : 2009\n",
      "Title : surgery for obesity\n",
      "Accessionnumber : None\n",
      "\n",
      "Year : 2019\n",
      "Title : metabolic surgery for hypertension in patients with obesity\n",
      "Accessionnumber : None\n",
      "\n",
      "4/10 positive, 18/10 negative\n",
      "Do these records refer to the same thing?\n",
      "(y)es / (n)o / (u)nsure / (f)inished / (p)revious\n"
     ]
    },
    {
     "name": "stdin",
     "output_type": "stream",
     "text": [
      " n\n"
     ]
    },
    {
     "name": "stderr",
     "output_type": "stream",
     "text": [
      "Year : 2021\n",
      "Title : weight-loss strategies for prevention and treatment of hypertension: a scientific statement from the american heart association\n",
      "Accessionnumber : None\n",
      "\n",
      "Year : 2021\n",
      "Title : obesity and cardiovascular disease: a scientific statement from the american heart association\n",
      "Accessionnumber : None\n",
      "\n",
      "4/10 positive, 19/10 negative\n",
      "Do these records refer to the same thing?\n",
      "(y)es / (n)o / (u)nsure / (f)inished / (p)revious\n"
     ]
    },
    {
     "name": "stdin",
     "output_type": "stream",
     "text": [
      " u\n"
     ]
    },
    {
     "name": "stderr",
     "output_type": "stream",
     "text": [
      "Year : 2022\n",
      "Title : feasibility, safety and efficacy of endoscopic gastroplasty for treatment of obese patients. preliminary results at 6 months follow-up from a prospective, single center, randomized controlled trial\n",
      "Accessionnumber : None\n",
      "\n",
      "Year : 2022\n",
      "Title : endoscopic gastroplasty: feasibility, safety and efficacy of three different techniques by preliminary results of a prospective, single center, randomized controlled study\n",
      "Accessionnumber : None\n",
      "\n",
      "4/10 positive, 19/10 negative\n",
      "Do these records refer to the same thing?\n",
      "(y)es / (n)o / (u)nsure / (f)inished / (p)revious\n"
     ]
    },
    {
     "name": "stdin",
     "output_type": "stream",
     "text": [
      " u\n"
     ]
    },
    {
     "name": "stderr",
     "output_type": "stream",
     "text": [
      "Year : 2019\n",
      "Title : laparoscopic sleeve gastrectomy versus laparoscopic roux-en-y gastric bypass: a meta-analysis of weight loss, comorbidities, and biochemical outcomes from randomized controlled trials\n",
      "Accessionnumber : None\n",
      "\n",
      "Year : 2019\n",
      "Title : long-term outcomes of laparoscopic sleeve gastrectomy versus roux-en-y gastric bypass for morbid obesity: results from a meta-analysis of randomized controlled trials\n",
      "Accessionnumber : None\n",
      "\n",
      "4/10 positive, 19/10 negative\n",
      "Do these records refer to the same thing?\n",
      "(y)es / (n)o / (u)nsure / (f)inished / (p)revious\n"
     ]
    },
    {
     "name": "stdin",
     "output_type": "stream",
     "text": [
      " u\n"
     ]
    },
    {
     "name": "stderr",
     "output_type": "stream",
     "text": [
      "Year : 2022\n",
      "Title : three techniques of endoscopic gastroplasty: preliminary results of a prospective, single center, randomized controlled study on feasibility, safety and efficacy\n",
      "Accessionnumber : None\n",
      "\n",
      "Year : 2022\n",
      "Title : endoscopic gastroplasty: feasibility, safety and efficacy of three different techniques by preliminary results of a prospective, single center, randomized controlled study\n",
      "Accessionnumber : None\n",
      "\n",
      "4/10 positive, 19/10 negative\n",
      "Do these records refer to the same thing?\n",
      "(y)es / (n)o / (u)nsure / (f)inished / (p)revious\n"
     ]
    },
    {
     "name": "stdin",
     "output_type": "stream",
     "text": [
      " u\n"
     ]
    },
    {
     "name": "stderr",
     "output_type": "stream",
     "text": [
      "Year : 2019\n",
      "Title : bariatric surgery in adolescents\n",
      "Accessionnumber : None\n",
      "\n",
      "Year : 2019\n",
      "Title : bariatric surgery in patients with body mass index35: a systematic review and meta analysis\n",
      "Accessionnumber : None\n",
      "\n",
      "4/10 positive, 19/10 negative\n",
      "Do these records refer to the same thing?\n",
      "(y)es / (n)o / (u)nsure / (f)inished / (p)revious\n"
     ]
    },
    {
     "name": "stdin",
     "output_type": "stream",
     "text": [
      " n\n"
     ]
    },
    {
     "name": "stderr",
     "output_type": "stream",
     "text": [
      "Year : 2017\n",
      "Title : erratum to: relationship between vitamin d deficiency and the components of metabolic syndrome in patients with morbid obesity, before and 1 year after laparoscopic roux-en-y gastric bypass or sleeve gastrectomy (obesity surgery, (2017), 27, 5, (1222-1228), 10.1007/s11695-016-2445-0)\n",
      "Accessionnumber : None\n",
      "\n",
      "Year : 2017\n",
      "Title : bariatric surgery and hypertension\n",
      "Accessionnumber : None\n",
      "\n",
      "4/10 positive, 20/10 negative\n",
      "Do these records refer to the same thing?\n",
      "(y)es / (n)o / (u)nsure / (f)inished / (p)revious\n"
     ]
    },
    {
     "name": "stdin",
     "output_type": "stream",
     "text": [
      " n\n"
     ]
    },
    {
     "name": "stderr",
     "output_type": "stream",
     "text": [
      "Year : 2022\n",
      "Title : feasibility, safety and efficacy of endoscopic gastroplasty for treatment of obese patients. preliminary results at 6 months follow-up from a prospective, single center, randomized controlled trial\n",
      "Accessionnumber : None\n",
      "\n",
      "Year : 2022\n",
      "Title : three techniques of endoscopic gastroplasty: preliminary results of a prospective, single center, randomized controlled study on feasibility, safety and efficacy\n",
      "Accessionnumber : None\n",
      "\n",
      "4/10 positive, 21/10 negative\n",
      "Do these records refer to the same thing?\n",
      "(y)es / (n)o / (u)nsure / (f)inished / (p)revious\n"
     ]
    },
    {
     "name": "stdin",
     "output_type": "stream",
     "text": [
      " u\n"
     ]
    },
    {
     "name": "stderr",
     "output_type": "stream",
     "text": [
      "Year : 2016\n",
      "Title : greater curvature plication versus laparoscopic sleeve gastrectomy: 3-years results of randomized controlled trial\n",
      "Accessionnumber : None\n",
      "\n",
      "Year : 2016\n",
      "Title : randomized controlled trial comparing laparoscopic greater curvature plication versus laparoscopic sleeve gastrectomy\n",
      "Accessionnumber : None\n",
      "\n",
      "4/10 positive, 21/10 negative\n",
      "Do these records refer to the same thing?\n",
      "(y)es / (n)o / (u)nsure / (f)inished / (p)revious\n"
     ]
    },
    {
     "name": "stdin",
     "output_type": "stream",
     "text": [
      " n\n"
     ]
    },
    {
     "name": "stderr",
     "output_type": "stream",
     "text": [
      "Year : 2017\n",
      "Title : laparoscopic greater curvature plication versus laparoscopic sleeve gastrectomy: long-term results of prospective randomized trial sleeve gastrectomy\n",
      "Accessionnumber : None\n",
      "\n",
      "Year : 2016\n",
      "Title : greater curvature plication versus laparoscopic sleeve gastrectomy: 3-years results of randomized controlled trial\n",
      "Accessionnumber : None\n",
      "\n",
      "4/10 positive, 22/10 negative\n",
      "Do these records refer to the same thing?\n",
      "(y)es / (n)o / (u)nsure / (f)inished / (p)revious\n"
     ]
    },
    {
     "name": "stdin",
     "output_type": "stream",
     "text": [
      " n\n"
     ]
    },
    {
     "name": "stderr",
     "output_type": "stream",
     "text": [
      "Year : 2016\n",
      "Title : lap-band for bmi 30-40: 5-year health outcomes from the multicenter pivotal study\n",
      "Accessionnumber : None\n",
      "\n",
      "Year : 2013\n",
      "Title : lap-band for lower bmi: 2-year results from the multicenter pivotal study\n",
      "Accessionnumber : cn-00910601\n",
      "\n",
      "4/10 positive, 23/10 negative\n",
      "Do these records refer to the same thing?\n",
      "(y)es / (n)o / (u)nsure / (f)inished / (p)revious\n"
     ]
    },
    {
     "name": "stdin",
     "output_type": "stream",
     "text": [
      " n\n"
     ]
    },
    {
     "name": "stderr",
     "output_type": "stream",
     "text": [
      "Year : 2016\n",
      "Title : greater curvature plication versus laparoscopic sleeve gastrectomy: 3-years results of randomized controlled trial\n",
      "Accessionnumber : None\n",
      "\n",
      "Year : 2017\n",
      "Title : laparoscopic greater curvature plication versus laparoscopic sleeve gastrectomy: long-term results of prospective randomized trial\n",
      "Accessionnumber : None\n",
      "\n",
      "4/10 positive, 24/10 negative\n",
      "Do these records refer to the same thing?\n",
      "(y)es / (n)o / (u)nsure / (f)inished / (p)revious\n"
     ]
    },
    {
     "name": "stdin",
     "output_type": "stream",
     "text": [
      " n\n"
     ]
    },
    {
     "name": "stderr",
     "output_type": "stream",
     "text": [
      "Year : 2017\n",
      "Title : changes in glycemic control and body weight after explantation of the duodenal-jejunal bypass liner\n",
      "Accessionnumber : None\n",
      "\n",
      "Year : 2018\n",
      "Title : trends in bmi, glycemic control and obesity-associated comorbidities after explantation of the duodenal-jejunal bypass liner (djbl)\n",
      "Accessionnumber : None\n",
      "\n",
      "4/10 positive, 25/10 negative\n",
      "Do these records refer to the same thing?\n",
      "(y)es / (n)o / (u)nsure / (f)inished / (p)revious\n"
     ]
    },
    {
     "name": "stdin",
     "output_type": "stream",
     "text": [
      " n\n"
     ]
    },
    {
     "name": "stderr",
     "output_type": "stream",
     "text": [
      "Year : 2017\n",
      "Title : roux-en-y gastric bypass in type 2 diabetes patients with mild obesity: a systematic review and meta-analysis\n",
      "Accessionnumber : None\n",
      "\n",
      "Year : 2016\n",
      "Title : roux-en-y gastric bypass versus medical treatment for type 2 diabetes mellitus in obese patients: a systematic review and meta-analysis of randomized controlled trials\n",
      "Accessionnumber : None\n",
      "\n",
      "4/10 positive, 26/10 negative\n",
      "Do these records refer to the same thing?\n",
      "(y)es / (n)o / (u)nsure / (f)inished / (p)revious\n"
     ]
    },
    {
     "name": "stdin",
     "output_type": "stream",
     "text": [
      " n\n"
     ]
    },
    {
     "name": "stderr",
     "output_type": "stream",
     "text": [
      "Year : 2021\n",
      "Title : beta_blockers versus placebo or no intervention for primary prophylaxis of oesophageal variceal bleeding in children with chronic liver disease or portal vein thrombosis\n",
      "Accessionnumber : cd011973\n",
      "\n",
      "Year : 2020\n",
      "Title : band ligation versus sclerotherapy for primary prophylaxis of oesophageal variceal bleeding in children with chronic liver disease or portal vein thrombosis\n",
      "Accessionnumber : cd011803\n",
      "\n",
      "4/10 positive, 27/10 negative\n",
      "Do these records refer to the same thing?\n",
      "(y)es / (n)o / (u)nsure / (f)inished / (p)revious\n"
     ]
    },
    {
     "name": "stdin",
     "output_type": "stream",
     "text": [
      " n\n"
     ]
    },
    {
     "name": "stderr",
     "output_type": "stream",
     "text": [
      "Year : 2016\n",
      "Title : randomized controlled trial comparing laparoscopic greater curvature plication versus laparoscopic sleeve gastrectomy\n",
      "Accessionnumber : None\n",
      "\n",
      "Year : 2013\n",
      "Title : comparison of short-term outcomes between laparoscopic greater curvature plication and laparoscopic sleeve gastrectomy\n",
      "Accessionnumber : None\n",
      "\n",
      "4/10 positive, 28/10 negative\n",
      "Do these records refer to the same thing?\n",
      "(y)es / (n)o / (u)nsure / (f)inished / (p)revious\n"
     ]
    },
    {
     "name": "stdin",
     "output_type": "stream",
     "text": [
      " n\n"
     ]
    },
    {
     "name": "stderr",
     "output_type": "stream",
     "text": [
      "Year : 2015\n",
      "Title : management in patients with type 2 diabetes: a randomized clinical trial\n",
      "Accessionnumber : None\n",
      "\n",
      "Year : 2019\n",
      "Title : adjustable gastric band surgery or medical management in patients with type 2 diabetes and obesity: three-year results of a randomized trial\n",
      "Accessionnumber : None\n",
      "\n",
      "4/10 positive, 29/10 negative\n",
      "Do these records refer to the same thing?\n",
      "(y)es / (n)o / (u)nsure / (f)inished / (p)revious\n"
     ]
    },
    {
     "name": "stdin",
     "output_type": "stream",
     "text": [
      " n\n"
     ]
    },
    {
     "name": "stderr",
     "output_type": "stream",
     "text": [
      "Year : 2014\n",
      "Title : update on the surgical management of idiopathic intracranial hypertension\n",
      "Accessionnumber : None\n",
      "\n",
      "Year : 2010\n",
      "Title : an update on idiopathic intracranial hypertension\n",
      "Accessionnumber : None\n",
      "\n",
      "4/10 positive, 30/10 negative\n",
      "Do these records refer to the same thing?\n",
      "(y)es / (n)o / (u)nsure / (f)inished / (p)revious\n"
     ]
    },
    {
     "name": "stdin",
     "output_type": "stream",
     "text": [
      " n\n"
     ]
    },
    {
     "name": "stderr",
     "output_type": "stream",
     "text": [
      "Year : 2021\n",
      "Title : band ligation versus sham or no intervention for primary prophylaxis of oesophageal variceal bleeding in children and adolescents with chronic liver disease or portal vein thrombosis\n",
      "Accessionnumber : cd011561\n",
      "\n",
      "Year : 2020\n",
      "Title : band ligation versus sclerotherapy for primary prophylaxis of oesophageal variceal bleeding in children with chronic liver disease or portal vein thrombosis\n",
      "Accessionnumber : cd011803\n",
      "\n",
      "4/10 positive, 31/10 negative\n",
      "Do these records refer to the same thing?\n",
      "(y)es / (n)o / (u)nsure / (f)inished / (p)revious\n"
     ]
    },
    {
     "name": "stdin",
     "output_type": "stream",
     "text": [
      " n\n"
     ]
    },
    {
     "name": "stderr",
     "output_type": "stream",
     "text": [
      "Year : 2021\n",
      "Title : band ligation versus sham or no intervention for primary prophylaxis of oesophageal variceal bleeding in children and adolescents with chronic liver disease or portal vein thrombosis\n",
      "Accessionnumber : cd011561\n",
      "\n",
      "Year : 2020\n",
      "Title : sclerotherapy versus beta_blockers for primary prophylaxis of oesophageal variceal bleeding in children and adolescents with chronic liver disease or portal vein thrombosis\n",
      "Accessionnumber : cd011659\n",
      "\n",
      "4/10 positive, 32/10 negative\n",
      "Do these records refer to the same thing?\n",
      "(y)es / (n)o / (u)nsure / (f)inished / (p)revious\n"
     ]
    },
    {
     "name": "stdin",
     "output_type": "stream",
     "text": [
      " n\n"
     ]
    },
    {
     "name": "stderr",
     "output_type": "stream",
     "text": [
      "Year : 2017\n",
      "Title : laparoscopic greater curvature plication versus laparoscopic sleeve gastrectomy: long-term results of prospective randomized trial sleeve gastrectomy\n",
      "Accessionnumber : None\n",
      "\n",
      "Year : 2016\n",
      "Title : randomized controlled trial comparing laparoscopic greater curvature plication versus laparoscopic sleeve gastrectomy\n",
      "Accessionnumber : None\n",
      "\n",
      "4/10 positive, 33/10 negative\n",
      "Do these records refer to the same thing?\n",
      "(y)es / (n)o / (u)nsure / (f)inished / (p)revious\n"
     ]
    },
    {
     "name": "stdin",
     "output_type": "stream",
     "text": [
      " n\n"
     ]
    },
    {
     "name": "stderr",
     "output_type": "stream",
     "text": [
      "Year : 2015\n",
      "Title : two-year outcomes of randomized controlled trial comparing laparoscopic greater curvature plication versus laparoscopic sleeve gastrectomy\n",
      "Accessionnumber : None\n",
      "\n",
      "Year : 2013\n",
      "Title : comparison of short-term outcomes between laparoscopic greater curvature plication and laparoscopic sleeve gastrectomy\n",
      "Accessionnumber : None\n",
      "\n",
      "4/10 positive, 34/10 negative\n",
      "Do these records refer to the same thing?\n",
      "(y)es / (n)o / (u)nsure / (f)inished / (p)revious\n"
     ]
    },
    {
     "name": "stdin",
     "output_type": "stream",
     "text": [
      " n\n"
     ]
    },
    {
     "name": "stderr",
     "output_type": "stream",
     "text": [
      "Year : 2005\n",
      "Title : the effect of weight loss on type 2 diabetes: a prospective randomized controlled trial of best practice medical management versus the placement of the lap-band system on hba1c concentration\n",
      "Accessionnumber : cn-01805555\n",
      "\n",
      "Year : 2009\n",
      "Title : weight loss and type 2 diabetes: a prospective randomised controlled trial intervention study of best practice medical management versus the additional placement of the lap-band system in overweight patients\n",
      "Accessionnumber : cn-01871558\n",
      "\n",
      "4/10 positive, 35/10 negative\n",
      "Do these records refer to the same thing?\n",
      "(y)es / (n)o / (u)nsure / (f)inished / (p)revious\n"
     ]
    },
    {
     "name": "stdin",
     "output_type": "stream",
     "text": [
      " n\n"
     ]
    },
    {
     "name": "stderr",
     "output_type": "stream",
     "text": [
      "Year : 2007\n",
      "Title : effects of dexmedetomidine in morbidly obese patients undergoing laparoscopic gastric bypass\n",
      "Accessionnumber : None\n",
      "\n",
      "Year : 2017\n",
      "Title : pharmacokinetic and pharmacodynamics of intravenous dexmedetomidine in morbidly obese patients undergoing laparoscopic surgery\n",
      "Accessionnumber : None\n",
      "\n",
      "4/10 positive, 36/10 negative\n",
      "Do these records refer to the same thing?\n",
      "(y)es / (n)o / (u)nsure / (f)inished / (p)revious\n"
     ]
    },
    {
     "name": "stdin",
     "output_type": "stream",
     "text": [
      " n\n"
     ]
    },
    {
     "name": "stderr",
     "output_type": "stream",
     "text": [
      "Year : 2017\n",
      "Title : long-term results after sleeve gastrectomy: a systematic review\n",
      "Accessionnumber : None\n",
      "\n",
      "Year : 2014\n",
      "Title : long-term follow-up after bariatric surgery: a systematic review\n",
      "Accessionnumber : None\n",
      "\n",
      "4/10 positive, 37/10 negative\n",
      "Do these records refer to the same thing?\n",
      "(y)es / (n)o / (u)nsure / (f)inished / (p)revious\n"
     ]
    },
    {
     "name": "stdin",
     "output_type": "stream",
     "text": [
      " n\n"
     ]
    },
    {
     "name": "stderr",
     "output_type": "stream",
     "text": [
      "Year : 2017\n",
      "Title : laparoscopic greater curvature plication versus laparoscopic sleeve gastrectomy: long-term results of prospective randomized trial\n",
      "Accessionnumber : None\n",
      "\n",
      "Year : 2016\n",
      "Title : randomized controlled trial comparing laparoscopic greater curvature plication versus laparoscopic sleeve gastrectomy\n",
      "Accessionnumber : None\n",
      "\n",
      "4/10 positive, 38/10 negative\n",
      "Do these records refer to the same thing?\n",
      "(y)es / (n)o / (u)nsure / (f)inished / (p)revious\n"
     ]
    },
    {
     "name": "stdin",
     "output_type": "stream",
     "text": [
      " n\n"
     ]
    },
    {
     "name": "stderr",
     "output_type": "stream",
     "text": [
      "Year : 2020\n",
      "Title : laparoscopic roux-en-y gastric bypass versus laparoscopic sleeve gastrectomy for 5-year hypertension remission in obese patients: a systematic review and meta-analysis\n",
      "Accessionnumber : None\n",
      "\n",
      "Year : 2021\n",
      "Title : laparoscopic roux-en-y gastric bypass versus laparoscopic sleeve gastrectomy: 5-year outcomes of merged data from two randomized clinical trials (sleevepass and sm-boss)\n",
      "Accessionnumber : None\n",
      "\n",
      "4/10 positive, 39/10 negative\n",
      "Do these records refer to the same thing?\n",
      "(y)es / (n)o / (u)nsure / (f)inished / (p)revious\n"
     ]
    },
    {
     "name": "stdin",
     "output_type": "stream",
     "text": [
      " n\n"
     ]
    },
    {
     "name": "stderr",
     "output_type": "stream",
     "text": [
      "Year : 2019\n",
      "Title : long-term follow-up after sleeve gastrectomy versus roux-en-y gastric bypass versus one-anastomosis gastric bypass: a prospective randomized comparative study of weight loss and remission of comorbidities\n",
      "Accessionnumber : None\n",
      "\n",
      "Year : 2018\n",
      "Title : evolution of comorbidities at 1, 2 and 5-years follow up after sleeve gastrectomy, roux-en-y gastric bypass (rygb) and oneanastomosis gastric bypass (oagb): a comparative study\n",
      "Accessionnumber : None\n",
      "\n",
      "4/10 positive, 40/10 negative\n",
      "Do these records refer to the same thing?\n",
      "(y)es / (n)o / (u)nsure / (f)inished / (p)revious\n"
     ]
    },
    {
     "name": "stdin",
     "output_type": "stream",
     "text": [
      " n\n"
     ]
    },
    {
     "name": "stderr",
     "output_type": "stream",
     "text": [
      "Year : 2017\n",
      "Title : laparoscopic roux-en-y gastric bypass vs. mini gastric bypass: a systematic review of the literature\n",
      "Accessionnumber : None\n",
      "\n",
      "Year : 2018\n",
      "Title : outcomes of mini vs roux-en-y gastric bypass: a meta-analysis and systematic review\n",
      "Accessionnumber : None\n",
      "\n",
      "4/10 positive, 41/10 negative\n",
      "Do these records refer to the same thing?\n",
      "(y)es / (n)o / (u)nsure / (f)inished / (p)revious\n"
     ]
    },
    {
     "name": "stdin",
     "output_type": "stream",
     "text": [
      " n\n"
     ]
    },
    {
     "name": "stderr",
     "output_type": "stream",
     "text": [
      "Year : 2021\n",
      "Title : beta_blockers versus placebo or no intervention for primary prophylaxis of oesophageal variceal bleeding in children with chronic liver disease or portal vein thrombosis\n",
      "Accessionnumber : cd011973\n",
      "\n",
      "Year : 2020\n",
      "Title : sclerotherapy versus beta_blockers for primary prophylaxis of oesophageal variceal bleeding in children and adolescents with chronic liver disease or portal vein thrombosis\n",
      "Accessionnumber : cd011659\n",
      "\n",
      "4/10 positive, 42/10 negative\n",
      "Do these records refer to the same thing?\n",
      "(y)es / (n)o / (u)nsure / (f)inished / (p)revious\n"
     ]
    },
    {
     "name": "stdin",
     "output_type": "stream",
     "text": [
      " f\n"
     ]
    },
    {
     "name": "stderr",
     "output_type": "stream",
     "text": [
      "Finished labeling\n"
     ]
    },
    {
     "name": "stdout",
     "output_type": "stream",
     "text": [
      "Clustering...\n",
      "# duplicate sets 812\n"
     ]
    }
   ],
   "source": [
    "#assigning the clusters\n",
    "emb_coch_med_df = pandas_dedupe.dedupe_dataframe(emb_coch_med, [\"Year\",\"Title\",\"Accessionnumber\"])"
   ]
  },
  {
   "cell_type": "code",
   "execution_count": null,
   "id": "a52374ab-3d36-402c-b93b-a68b7ed8ad51",
   "metadata": {
    "tags": []
   },
   "outputs": [],
   "source": [
    "emb_coch_med_df.to_csv(\"Combined_coch_medline_embase_writeout.csv\")"
   ]
  },
  {
   "cell_type": "markdown",
   "id": "1461d7d7-53eb-49ba-8ca5-bae5e72959da",
   "metadata": {},
   "source": [
    "## **Levenshtein distance** between two words is the minimum number of single-character edits (insertions, deletions or substitutions) required to change one word into the other."
   ]
  },
  {
   "cell_type": "code",
   "execution_count": 3,
   "id": "2100c18d-a2ee-4e88-81e1-e61082c3b052",
   "metadata": {},
   "outputs": [
    {
     "name": "stdout",
     "output_type": "stream",
     "text": [
      "Collecting levenshtein\n",
      "  Downloading Levenshtein-0.20.9-cp311-cp311-macosx_11_0_arm64.whl (97 kB)\n",
      "\u001b[2K     \u001b[90m━━━━━━━━━━━━━━━━━━━━━━━━━━━━━━━━━━━━━━━━\u001b[0m \u001b[32m97.5/97.5 kB\u001b[0m \u001b[31m4.1 MB/s\u001b[0m eta \u001b[36m0:00:00\u001b[0m\n",
      "\u001b[?25hCollecting rapidfuzz<3.0.0,>=2.3.0\n",
      "  Downloading rapidfuzz-2.15.0-cp311-cp311-macosx_11_0_arm64.whl (1.1 MB)\n",
      "\u001b[2K     \u001b[90m━━━━━━━━━━━━━━━━━━━━━━━━━━━━━━━━━━━━━━━━\u001b[0m \u001b[32m1.1/1.1 MB\u001b[0m \u001b[31m9.2 MB/s\u001b[0m eta \u001b[36m0:00:00\u001b[0m:00:01\u001b[0m00:01\u001b[0m\n",
      "\u001b[?25hInstalling collected packages: rapidfuzz, levenshtein\n",
      "Successfully installed levenshtein-0.20.9 rapidfuzz-2.15.0\n"
     ]
    }
   ],
   "source": [
    "#Levenshtein distance for calculating similarities of strings\n",
    "#!pip install levenshtein install Levenshtein"
   ]
  },
  {
   "cell_type": "code",
   "execution_count": 5,
   "id": "0e5e2d46-d18e-4a5d-8e2d-9d244a7a9fa9",
   "metadata": {
    "tags": []
   },
   "outputs": [],
   "source": [
    "#import the correct libraries\n",
    "import pandas as pd\n",
    "from Levenshtein import distance"
   ]
  },
  {
   "cell_type": "markdown",
   "id": "a2e195a0-a592-4c33-b543-ee2901a74edc",
   "metadata": {
    "tags": []
   },
   "source": [
    "# Read in the csv file using pandas\n"
   ]
  },
  {
   "cell_type": "code",
   "execution_count": 7,
   "id": "cab58eb3-c2e7-4c47-9f19-40558833f4af",
   "metadata": {
    "tags": []
   },
   "outputs": [],
   "source": [
    "data = pd.read_csv(\"Combined_embase_medline_cochrane.csv\")"
   ]
  },
  {
   "cell_type": "code",
   "execution_count": null,
   "id": "1160ed43-243c-46ba-8059-8ee1e6c92883",
   "metadata": {
    "tags": []
   },
   "outputs": [],
   "source": [
    "titles = [row['Title'] for idx, row in data.iterrows()]\n",
    "for i in range(len(titles)):\n",
    "    for j in range(i+1,len(titles)):\n",
    "        lev_dist = distance(titles[i],titles[j])\n",
    "        if lev_dist < 0.2*max(len(titles[i]),len(titles[j])):\n",
    "            print(f\"\\n\\n{titles[i]}\\n{titles[j]}\\nLevenshtein distance: {lev_dist}\")"
   ]
  },
  {
   "cell_type": "code",
   "execution_count": 21,
   "id": "ddaaaf52-1369-4f14-8801-6cdda33ca915",
   "metadata": {
    "tags": []
   },
   "outputs": [
    {
     "name": "stdout",
     "output_type": "stream",
     "text": [
      "\n",
      "\n",
      "Transoral gastric volume reduction as intervention for weight management: 12-month follow-up of TRIM trial\n",
      "Comment on: transoral gastric volume reduction as an intervention for weight management: 12 month follow-up of the TRIM trial\n",
      "Levenshtein distance: 21\n",
      "\n",
      "\n",
      "Effects of a balanced energy and high protein formula diet (Vegestart complet R) vs. low-calorie regular diet in morbid obese patients prior to bariatric surgery (laparoscopic single anastomosis gastric bypass): a prospective, double-blind randomized study\n",
      "Effects of a balanced energy and high protein formula diet (Vegestart complet) vs. low-calorie regular diet in morbid obese patients prior to bariatric surgery (laparoscopic single anastomosis gastric bypass): a prospective, double-blind randomized study\n",
      "Levenshtein distance: 2\n",
      "\n",
      "\n",
      "Beta_blockers versus placebo or no intervention for primary prophylaxis of oesophageal variceal bleeding in children with chronic liver disease or portal vein thrombosis\n",
      "Band ligation versus sham or no intervention for primary prophylaxis of oesophageal variceal bleeding in children and adolescents with chronic liver disease or portal vein thrombosis\n",
      "Levenshtein distance: 34\n",
      "\n",
      "\n",
      "Beta_blockers versus placebo or no intervention for primary prophylaxis of oesophageal variceal bleeding in children with chronic liver disease or portal vein thrombosis\n",
      "Band ligation versus sclerotherapy for primary prophylaxis of oesophageal variceal bleeding in children with chronic liver disease or portal vein thrombosis\n",
      "Levenshtein distance: 33\n",
      "\n",
      "\n",
      "Beta_blockers versus placebo or no intervention for primary prophylaxis of oesophageal variceal bleeding in children with chronic liver disease or portal vein thrombosis\n",
      "Sclerotherapy versus sham or no intervention for primary prophylaxis of oesophageal variceal bleeding in children with chronic liver disease or portal vein thrombosis\n",
      "Levenshtein distance: 18\n",
      "\n",
      "\n",
      "Band ligation versus sham or no intervention for primary prophylaxis of oesophageal variceal bleeding in children and adolescents with chronic liver disease or portal vein thrombosis\n",
      "Band ligation versus sclerotherapy for primary prophylaxis of oesophageal variceal bleeding in children with chronic liver disease or portal vein thrombosis\n",
      "Levenshtein distance: 34\n",
      "\n",
      "\n",
      "Band ligation versus sham or no intervention for primary prophylaxis of oesophageal variceal bleeding in children and adolescents with chronic liver disease or portal vein thrombosis\n",
      "Sclerotherapy versus beta_blockers for primary prophylaxis of oesophageal variceal bleeding in children and adolescents with chronic liver disease or portal vein thrombosis\n",
      "Levenshtein distance: 33\n",
      "\n",
      "\n",
      "Band ligation versus sham or no intervention for primary prophylaxis of oesophageal variceal bleeding in children and adolescents with chronic liver disease or portal vein thrombosis\n",
      "Sclerotherapy versus sham or no intervention for primary prophylaxis of oesophageal variceal bleeding in children with chronic liver disease or portal vein thrombosis\n",
      "Levenshtein distance: 29\n",
      "\n",
      "\n",
      "Band ligation versus sclerotherapy for primary prophylaxis of oesophageal variceal bleeding in children with chronic liver disease or portal vein thrombosis\n",
      "Sclerotherapy versus sham or no intervention for primary prophylaxis of oesophageal variceal bleeding in children with chronic liver disease or portal vein thrombosis\n",
      "Levenshtein distance: 31\n",
      "\n",
      "\n",
      "Laparoscopic greater curvature plication versus laparoscopic sleeve gastrectomy: Long-term results of prospective randomized trial sleeve gastrectomy\n",
      "Laparoscopic greater curvature plication versus laparoscopic sleeve gastrectomy: Long-term results of prospective randomized trial\n",
      "Levenshtein distance: 19\n",
      "\n",
      "\n",
      "Two-year outcomes of randomized controlled trial comparing laparoscopic greater curvature plication versus laparoscopic sleeve gastrectomy\n",
      "Randomized controlled trial comparing laparoscopic greater curvature plication versus laparoscopic sleeve gastrectomy\n",
      "Levenshtein distance: 22\n",
      "\n",
      "\n",
      "Laparoscopic Sleeve Gastrectomy versus Laparoscopic Roux-en-Y Gastric Bypass: A Meta-Analysis of Weight Loss, Comorbidities, and Biochemical Outcomes from Randomized Controlled Trials\n",
      "Laparoscopic Sleeve Gastrectomy Versus Laparoscopic Roux-en-Y Gastric Bypass: A Systematic Review and Meta-analysis of Weight Loss, Comorbidities, and Biochemical Outcomes From Randomized Controlled Trials\n",
      "Levenshtein distance: 25\n",
      "\n",
      "\n",
      "One-anastomosis gastric bypass versus sleeve gastrectomy for morbid obesity: A meta-analysis\n",
      "One anastomosis gastric bypass versus Roux-en-Y gastric bypass for morbid obesity: a meta-analysis\n",
      "Levenshtein distance: 18\n",
      "\n",
      "\n",
      "Letter by Moris et al Regarding Article, \"Effects of Bariatric Surgery in Obese Patients With Hypertension: the GATEWAY Randomized Trial (Gastric Bypass to Treat Obese Patients With Steady Hypertension)\"\n",
      "Response by Schiavon et al to Letters Regarding Article, \"Effects of Bariatric Surgery in Obese Patients With Hypertension: The GATEWAY Randomized Trial (Gastric Bypass to Treat Obese Patients With Steady Hypertension)\"\n",
      "Levenshtein distance: 26\n",
      "\n",
      "\n",
      "Letter by Moris et al Regarding Article, \"Effects of Bariatric Surgery in Obese Patients With Hypertension: the GATEWAY Randomized Trial (Gastric Bypass to Treat Obese Patients With Steady Hypertension)\"\n",
      "Letter by Yang et al Regarding Article, \"Effects of Bariatric Surgery in Obese Patients With Hypertension: the GATEWAY Randomized Trial (Gastric Bypass to Treat Obese Patients With Steady Hypertension)\"\n",
      "Levenshtein distance: 5\n",
      "\n",
      "\n",
      "An update of idiopathic intracranial hypertension\n",
      "An update on idiopathic intracranial hypertension\n",
      "Levenshtein distance: 1\n",
      "\n",
      "\n",
      "Long-term follow-up after sleeve gastrectomy versus Roux-en-Y gastric bypass versus one-anastomosis gastric bypass: a prospective randomized comparative study of weight loss and remission of comorbidities\n",
      "Long-term follow-up after sleeve gastrectomy versus Roux-en-Y gastric bypass versus mini gastric bypass: A prospective randomized comparative study of weight loss and remission of comorbidities\n",
      "Levenshtein distance: 14\n",
      "\n",
      "\n",
      "Response by Schiavon et al to Letters Regarding Article, \"Effects of Bariatric Surgery in Obese Patients With Hypertension: The GATEWAY Randomized Trial (Gastric Bypass to Treat Obese Patients With Steady Hypertension)\"\n",
      "Letter by Yang et al Regarding Article, \"Effects of Bariatric Surgery in Obese Patients With Hypertension: the GATEWAY Randomized Trial (Gastric Bypass to Treat Obese Patients With Steady Hypertension)\"\n",
      "Levenshtein distance: 26\n",
      "\n",
      "\n",
      "LSG vs OAGB-1 Year Follow-up Data-a Randomized Control Trial\n",
      "LSG vs MGB-OAGB-3 Year Follow-up Data: a Randomised Control Trial\n",
      "Levenshtein distance: 8\n",
      "\n",
      "\n",
      "Minimizing Hemorrhagic Complications in Laparoscopic Sleeve Gastrectomy--a Randomized Controlled Trial\n",
      "Minimizing hemorrhagic complications in laparoscopic sleeve gastrectomy a randomized controlled trial\n",
      "Levenshtein distance: 10\n"
     ]
    }
   ],
   "source": [
    "titles = [row['Title'] for idx, row in data.iterrows()]\n",
    "for i in range(len(titles)):\n",
    "    for j in range(i+1,len(titles)):\n",
    "        lev_dist = distance(titles[i],titles[j])\n",
    "        #print(lev_dist)\n",
    "        if lev_dist < 0.2*max(len(titles[i]),len(titles[j])):\n",
    "            print(f\"\\n\\n{titles[i]}\\n{titles[j]}\\nLevenshtein distance: {lev_dist}\")\n",
    "\n",
    "     "
   ]
  },
  {
   "cell_type": "code",
   "execution_count": 22,
   "id": "988b7a49-609d-4e79-9efa-3225f25d6eb5",
   "metadata": {
    "tags": []
   },
   "outputs": [
    {
     "name": "stdout",
     "output_type": "stream",
     "text": [
      "0\n",
      "1\n",
      "2\n",
      "3\n",
      "4\n",
      "5\n",
      "6\n",
      "7\n",
      "8\n",
      "9\n"
     ]
    }
   ],
   "source": [
    "for i in range(10):\n",
    "    print(i)"
   ]
  },
  {
   "cell_type": "code",
   "execution_count": 23,
   "id": "e324ee00-10e5-418e-9e01-21092c51cee4",
   "metadata": {
    "tags": []
   },
   "outputs": [
    {
     "data": {
      "text/plain": [
       "\u001b[0;31mInit signature:\u001b[0m \u001b[0mrange\u001b[0m\u001b[0;34m(\u001b[0m\u001b[0mself\u001b[0m\u001b[0;34m,\u001b[0m \u001b[0;34m/\u001b[0m\u001b[0;34m,\u001b[0m \u001b[0;34m*\u001b[0m\u001b[0margs\u001b[0m\u001b[0;34m,\u001b[0m \u001b[0;34m**\u001b[0m\u001b[0mkwargs\u001b[0m\u001b[0;34m)\u001b[0m\u001b[0;34m\u001b[0m\u001b[0;34m\u001b[0m\u001b[0m\n",
       "\u001b[0;31mDocstring:\u001b[0m     \n",
       "range(stop) -> range object\n",
       "range(start, stop[, step]) -> range object\n",
       "\n",
       "Return an object that produces a sequence of integers from start (inclusive)\n",
       "to stop (exclusive) by step.  range(i, j) produces i, i+1, i+2, ..., j-1.\n",
       "start defaults to 0, and stop is omitted!  range(4) produces 0, 1, 2, 3.\n",
       "These are exactly the valid indices for a list of 4 elements.\n",
       "When step is given, it specifies the increment (or decrement).\n",
       "\u001b[0;31mType:\u001b[0m           type\n",
       "\u001b[0;31mSubclasses:\u001b[0m     "
      ]
     },
     "metadata": {},
     "output_type": "display_data"
    }
   ],
   "source": [
    "?range"
   ]
  },
  {
   "cell_type": "code",
   "execution_count": null,
   "id": "e30a89fb-a313-4564-ad57-eac5df1694a0",
   "metadata": {},
   "outputs": [],
   "source": []
  }
 ],
 "metadata": {
  "kernelspec": {
   "display_name": "Python 3 (ipykernel)",
   "language": "python",
   "name": "python3"
  },
  "language_info": {
   "codemirror_mode": {
    "name": "ipython",
    "version": 3
   },
   "file_extension": ".py",
   "mimetype": "text/x-python",
   "name": "python",
   "nbconvert_exporter": "python",
   "pygments_lexer": "ipython3",
   "version": "3.11.0"
  }
 },
 "nbformat": 4,
 "nbformat_minor": 5
}
